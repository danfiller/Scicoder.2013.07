{
 "metadata": {
  "name": "exercises - Advanced Python"
 },
 "nbformat": 3,
 "nbformat_minor": 0,
 "worksheets": [
  {
   "cells": [
    {
     "cell_type": "heading",
     "level": 1,
     "metadata": {},
     "source": [
      "Python B"
     ]
    },
    {
     "cell_type": "markdown",
     "metadata": {},
     "source": [
      "__1)__ Find the log of the sqrt of the list: `range(10, 20)`"
     ]
    },
    {
     "cell_type": "code",
     "collapsed": false,
     "input": [
      "import math\n",
      "import numpy as np\n",
      "np.log10(np.sqrt(range(10,20)))\n",
      "\n"
     ],
     "language": "python",
     "metadata": {},
     "outputs": [
      {
       "output_type": "pyout",
       "prompt_number": 3,
       "text": [
        "array([ 0.5       ,  0.52069634,  0.53959062,  0.55697168,  0.57306402,\n",
        "        0.58804563,  0.60205999,  0.61522446,  0.62763625,  0.6393768 ])"
       ]
      }
     ],
     "prompt_number": 3
    },
    {
     "cell_type": "markdown",
     "metadata": {},
     "source": [
      "__2)__ Find all files that start with \"a\" in your Documents folder (don't use glob)"
     ]
    },
    {
     "cell_type": "code",
     "collapsed": false,
     "input": [
      "import os\n",
      "#os.path.basename(\"/Users/danfiller/Documents/a*\")\n",
      "#os.listdir(\"/Users/danfiller/Documents/\")\n",
      "for i in os.listdir(\"/Users/danfiller/Documents/\"):\n",
      "        if i[0] == 'A':\n",
      "            print i\n",
      "        \n"
     ],
     "language": "python",
     "metadata": {},
     "outputs": [
      {
       "output_type": "stream",
       "stream": "stdout",
       "text": [
        "Amazon MP3\n"
       ]
      }
     ],
     "prompt_number": 47
    },
    {
     "cell_type": "markdown",
     "metadata": {},
     "source": [
      "__3)__ Find all .txt files in your Documents folder (don't use glob)"
     ]
    },
    {
     "cell_type": "code",
     "collapsed": false,
     "input": [
      "for i in os.listdir(\"/Users/danfiller/Documents/\"):\n",
      "    if i[:3:-1] =='xet.':\n",
      "        print i\n",
      "        \n",
      "\n",
      "    "
     ],
     "language": "python",
     "metadata": {},
     "outputs": [
      {
       "output_type": "stream",
       "stream": "stdout",
       "text": [
        "evol.tex\n",
        "simo.tex\n"
       ]
      }
     ],
     "prompt_number": 57
    },
    {
     "cell_type": "markdown",
     "metadata": {},
     "source": [
      "__4)__ Are you on a 32-bit or 64-bit computer? Use `sys` and `math` to figure that out!"
     ]
    },
    {
     "cell_type": "code",
     "collapsed": false,
     "input": [
      "math.pi"
     ],
     "language": "python",
     "metadata": {},
     "outputs": [
      {
       "output_type": "pyout",
       "prompt_number": 62,
       "text": [
        "3.141592653589793"
       ]
      }
     ],
     "prompt_number": 62
    },
    {
     "cell_type": "markdown",
     "metadata": {},
     "source": [
      "__5)__ Redo 2) and 3) using the `glob` module. "
     ]
    },
    {
     "cell_type": "code",
     "collapsed": false,
     "input": [
      "import glob\n",
      "glob.glob(\"/Users/danfiller/Documents/A*\")"
     ],
     "language": "python",
     "metadata": {},
     "outputs": [
      {
       "output_type": "pyout",
       "prompt_number": 58,
       "text": [
        "['/Users/danfiller/Documents/Amazon MP3']"
       ]
      }
     ],
     "prompt_number": 58
    },
    {
     "cell_type": "code",
     "collapsed": false,
     "input": [
      "glob.glob(\"/Users/danfiller/Documents/*txt\")\n",
      "glob.glob(\"/Users/danfiller/Documents/*tex\")\n"
     ],
     "language": "python",
     "metadata": {},
     "outputs": [
      {
       "output_type": "pyout",
       "prompt_number": 61,
       "text": [
        "['/Users/danfiller/Documents/evol.tex',\n",
        " '/Users/danfiller/Documents/evoltable.tex',\n",
        " '/Users/danfiller/Documents/ex.tex',\n",
        " '/Users/danfiller/Documents/good2go.tex',\n",
        " '/Users/danfiller/Documents/justtable.tex',\n",
        " '/Users/danfiller/Documents/myfirstdoc.tex',\n",
        " '/Users/danfiller/Documents/NGC1261.sim.tex',\n",
        " '/Users/danfiller/Documents/ngc1261.tex',\n",
        " '/Users/danfiller/Documents/praying.tex',\n",
        " '/Users/danfiller/Documents/simo.tex',\n",
        " '/Users/danfiller/Documents/table.tex',\n",
        " '/Users/danfiller/Documents/tabletemp.tex',\n",
        " '/Users/danfiller/Documents/tabular.tex',\n",
        " '/Users/danfiller/Documents/testing.tex',\n",
        " '/Users/danfiller/Documents/total.tex',\n",
        " '/Users/danfiller/Documents/trial.tex',\n",
        " '/Users/danfiller/Documents/varpar.tex',\n",
        " '/Users/danfiller/Documents/wikiex.tex',\n",
        " '/Users/danfiller/Documents/working.tex']"
       ]
      }
     ],
     "prompt_number": 61
    },
    {
     "cell_type": "markdown",
     "metadata": {},
     "source": [
      "__6)__ In a separate script _not in the notebook_, write a script that accepts two numbers as command line arguments: `r1` and `r2`. Compute the difference in volume between a sphere with radius `r1` vs `r2`, and use a logger to log this value as an INFO message. <- This is done, I put in it /Users/danfiller/SCICODER/PYTHON_TUTORIAL/radius.py"
     ]
    },
    {
     "cell_type": "markdown",
     "metadata": {},
     "source": [
      "__7.1)__ Use the `datetime` module to find the current day of the week. "
     ]
    },
    {
     "cell_type": "code",
     "collapsed": false,
     "input": [
      "from datetime import datetime\n",
      "now=datetime.now()\n",
      "now\n",
      "print(now.day)\n"
     ],
     "language": "python",
     "metadata": {},
     "outputs": [
      {
       "output_type": "stream",
       "stream": "stdout",
       "text": [
        "9\n"
       ]
      }
     ],
     "prompt_number": 77
    },
    {
     "cell_type": "markdown",
     "metadata": {},
     "source": [
      "__7.2)__ Write a function that accepts a `datetime` object, and returns the day of the week as a string (e.g., 'Friday')."
     ]
    },
    {
     "cell_type": "code",
     "collapsed": false,
     "input": [
      "now=datetime.now()\n",
      "def day(date):\n",
      "    a = date.weekday()\n",
      "    if a == 1:\n",
      "        print \"Tuesday\"\n",
      "    if a == 0: \n",
      "        print \"Monday\"\n",
      "day(now)"
     ],
     "language": "python",
     "metadata": {},
     "outputs": [
      {
       "output_type": "stream",
       "stream": "stdout",
       "text": [
        "Tuesday\n"
       ]
      }
     ],
     "prompt_number": 85
    },
    {
     "cell_type": "code",
     "collapsed": false,
     "input": [],
     "language": "python",
     "metadata": {},
     "outputs": []
    },
    {
     "cell_type": "markdown",
     "metadata": {},
     "source": [
      "__7.3)__ Write a function that accepts a person's birthday, and prints their age, and number of days, hours, and minutes until midnight of their next birthday."
     ]
    },
    {
     "cell_type": "code",
     "collapsed": false,
     "input": [
      "int(raw_input(\"In what year were you born? \\n\")\n",
      "int(raw_input(\"In what month were you born? \\n\")\n",
      "int(raw_input(\"On what day were you born? \\n\")"
     ],
     "language": "python",
     "metadata": {},
     "outputs": []
    },
    {
     "cell_type": "code",
     "collapsed": false,
     "input": [],
     "language": "python",
     "metadata": {},
     "outputs": []
    },
    {
     "cell_type": "markdown",
     "metadata": {},
     "source": [
      "__8)__ Write a function that accepts, as a variable-length list of arguments, a list of someone's favorite restaurants, then returns a random restaurant from the list."
     ]
    },
    {
     "cell_type": "code",
     "collapsed": false,
     "input": [],
     "language": "python",
     "metadata": {},
     "outputs": []
    },
    {
     "cell_type": "code",
     "collapsed": false,
     "input": [],
     "language": "python",
     "metadata": {},
     "outputs": []
    },
    {
     "cell_type": "markdown",
     "metadata": {},
     "source": [
      "__9)__ Use `urllib2` to ??"
     ]
    },
    {
     "cell_type": "code",
     "collapsed": false,
     "input": [],
     "language": "python",
     "metadata": {},
     "outputs": []
    },
    {
     "cell_type": "markdown",
     "metadata": {},
     "source": [
      "__10.1)__ Write a function that gets the 5th item in an iterable object (e.g., a list or array)"
     ]
    },
    {
     "cell_type": "code",
     "collapsed": false,
     "input": [],
     "language": "python",
     "metadata": {},
     "outputs": []
    },
    {
     "cell_type": "code",
     "collapsed": false,
     "input": [],
     "language": "python",
     "metadata": {},
     "outputs": []
    },
    {
     "cell_type": "markdown",
     "metadata": {},
     "source": [
      "__10.2)__ Now pass in an integer to the function - what happens? What if you pass in the list `[0,1,2]`?"
     ]
    },
    {
     "cell_type": "code",
     "collapsed": false,
     "input": [],
     "language": "python",
     "metadata": {},
     "outputs": []
    },
    {
     "cell_type": "code",
     "collapsed": false,
     "input": [],
     "language": "python",
     "metadata": {},
     "outputs": []
    },
    {
     "cell_type": "markdown",
     "metadata": {},
     "source": [
      "__10.3)__ Modify your function to catch what you think could be some common exceptions, and re-raise the same exception with a nicer error message."
     ]
    },
    {
     "cell_type": "code",
     "collapsed": false,
     "input": [],
     "language": "python",
     "metadata": {},
     "outputs": []
    },
    {
     "cell_type": "code",
     "collapsed": false,
     "input": [],
     "language": "python",
     "metadata": {},
     "outputs": []
    },
    {
     "cell_type": "code",
     "collapsed": false,
     "input": [],
     "language": "python",
     "metadata": {},
     "outputs": []
    },
    {
     "cell_type": "code",
     "collapsed": false,
     "input": [],
     "language": "python",
     "metadata": {},
     "outputs": []
    }
   ],
   "metadata": {}
  }
 ]
}