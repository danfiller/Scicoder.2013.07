{
 "metadata": {
  "name": "exercises - Intro to Python"
 },
 "nbformat": 3,
 "nbformat_minor": 0,
 "worksheets": [
  {
   "cells": [
    {
     "cell_type": "heading",
     "level": 1,
     "metadata": {},
     "source": [
      "Python A"
     ]
    },
    {
     "cell_type": "markdown",
     "metadata": {},
     "source": [
      "__1)__ Use the `help()` function to read the documentation for the `print` statement."
     ]
    },
    {
     "cell_type": "code",
     "collapsed": false,
     "input": [
      "from __future__ import print_function\n",
      "help(print)"
     ],
     "language": "python",
     "metadata": {
      "slideshow": {
       "slide_type": "skip"
      }
     },
     "outputs": [
      {
       "output_type": "stream",
       "stream": "stdout",
       "text": [
        "Help on built-in function print in module __builtin__:\n",
        "\n",
        "print(...)\n",
        "    print(value, ..., sep=' ', end='\\n', file=sys.stdout)\n",
        "    \n",
        "    Prints the values to a stream, or to sys.stdout by default.\n",
        "    Optional keyword arguments:\n",
        "    file: a file-like object (stream); defaults to the current sys.stdout.\n",
        "    sep:  string inserted between values, default a space.\n",
        "    end:  string appended after the last value, default a newline.\n",
        "\n"
       ]
      }
     ],
     "prompt_number": 7
    },
    {
     "cell_type": "markdown",
     "metadata": {},
     "source": [
      "__2)__ Use Python as a calculator: Demitri unicycles for 13.76 minutes, before falling. How long is this in years?"
     ]
    },
    {
     "cell_type": "code",
     "collapsed": false,
     "input": [
      "print ((13.76)/(60*24*365))"
     ],
     "language": "python",
     "metadata": {},
     "outputs": [
      {
       "output_type": "stream",
       "stream": "stdout",
       "text": [
        "2.61796042618e-05\n"
       ]
      }
     ],
     "prompt_number": 4
    },
    {
     "cell_type": "markdown",
     "metadata": {},
     "source": [
      "__3)__ Define two integer variables `width` and `height`, then use them to compute and print the area."
     ]
    },
    {
     "cell_type": "code",
     "collapsed": false,
     "input": [
      "width=4\n",
      "length=5\n",
      "print('Area =',width*length)"
     ],
     "language": "python",
     "metadata": {},
     "outputs": [
      {
       "output_type": "stream",
       "stream": "stdout",
       "text": [
        "Area = 20\n"
       ]
      }
     ],
     "prompt_number": 9
    },
    {
     "cell_type": "markdown",
     "metadata": {},
     "source": [
      "__4)__ Re-define the variable `width` as a string, now repeat the area calculation. What happens? Why?"
     ]
    },
    {
     "cell_type": "code",
     "collapsed": false,
     "input": [
      "width='4'\n",
      "length='5'\n",
      "print('Area =',width*length)"
     ],
     "language": "python",
     "metadata": {},
     "outputs": [
      {
       "ename": "TypeError",
       "evalue": "can't multiply sequence by non-int of type 'str'",
       "output_type": "pyerr",
       "traceback": [
        "\u001b[0;31m---------------------------------------------------------------------------\u001b[0m\n\u001b[0;31mTypeError\u001b[0m                                 Traceback (most recent call last)",
        "\u001b[0;32m<ipython-input-10-972d2a1411f7>\u001b[0m in \u001b[0;36m<module>\u001b[0;34m()\u001b[0m\n\u001b[1;32m      1\u001b[0m \u001b[0mwidth\u001b[0m\u001b[0;34m=\u001b[0m\u001b[0;34m'4'\u001b[0m\u001b[0;34m\u001b[0m\u001b[0m\n\u001b[1;32m      2\u001b[0m \u001b[0mlength\u001b[0m\u001b[0;34m=\u001b[0m\u001b[0;34m'5'\u001b[0m\u001b[0;34m\u001b[0m\u001b[0m\n\u001b[0;32m----> 3\u001b[0;31m \u001b[0;32mprint\u001b[0m\u001b[0;34m(\u001b[0m\u001b[0;34m'Area ='\u001b[0m\u001b[0;34m,\u001b[0m\u001b[0mwidth\u001b[0m\u001b[0;34m*\u001b[0m\u001b[0mlength\u001b[0m\u001b[0;34m)\u001b[0m\u001b[0;34m\u001b[0m\u001b[0m\n\u001b[0m",
        "\u001b[0;31mTypeError\u001b[0m: can't multiply sequence by non-int of type 'str'"
       ]
      }
     ],
     "prompt_number": 10
    },
    {
     "cell_type": "markdown",
     "metadata": {},
     "source": [
      "__5)__ Create a list and a tuple `my_list` and `my_tuple`, each with 5 items. Update the 2nd item in each to be 'a string'. What happens with the tuple?"
     ]
    },
    {
     "cell_type": "code",
     "collapsed": false,
     "input": [
      "my_list =[0,1,2,3,4]\n",
      "my_tuple =(0,1,2,'scicoder','is_great')\n",
      "print(my_list,'my_list before edditing')\n",
      "print(my_tuple,'my_tuple before edditing')\n",
      "my_list[1]='a string'\n",
      "print(my_list,'my_list after edditing')\n",
      "my_tuple[1]='a string'\n",
      "print(my_tuple,'my_tuple after edditing')\n"
     ],
     "language": "python",
     "metadata": {},
     "outputs": [
      {
       "ename": "TypeError",
       "evalue": "'tuple' object does not support item assignment",
       "output_type": "pyerr",
       "traceback": [
        "\u001b[0;31m---------------------------------------------------------------------------\u001b[0m\n\u001b[0;31mTypeError\u001b[0m                                 Traceback (most recent call last)",
        "\u001b[0;32m<ipython-input-19-bf74366dc165>\u001b[0m in \u001b[0;36m<module>\u001b[0;34m()\u001b[0m\n\u001b[1;32m      5\u001b[0m \u001b[0mmy_list\u001b[0m\u001b[0;34m[\u001b[0m\u001b[0;36m1\u001b[0m\u001b[0;34m]\u001b[0m\u001b[0;34m=\u001b[0m\u001b[0;34m'a string'\u001b[0m\u001b[0;34m\u001b[0m\u001b[0m\n\u001b[1;32m      6\u001b[0m \u001b[0;32mprint\u001b[0m\u001b[0;34m(\u001b[0m\u001b[0mmy_list\u001b[0m\u001b[0;34m,\u001b[0m\u001b[0;34m'my_list after edditing'\u001b[0m\u001b[0;34m)\u001b[0m\u001b[0;34m\u001b[0m\u001b[0m\n\u001b[0;32m----> 7\u001b[0;31m \u001b[0mmy_tuple\u001b[0m\u001b[0;34m[\u001b[0m\u001b[0;36m1\u001b[0m\u001b[0;34m]\u001b[0m\u001b[0;34m=\u001b[0m\u001b[0;34m'a string'\u001b[0m\u001b[0;34m\u001b[0m\u001b[0m\n\u001b[0m\u001b[1;32m      8\u001b[0m \u001b[0;32mprint\u001b[0m\u001b[0;34m(\u001b[0m\u001b[0mmy_tuple\u001b[0m\u001b[0;34m,\u001b[0m\u001b[0;34m'my_tuple after edditing'\u001b[0m\u001b[0;34m)\u001b[0m\u001b[0;34m\u001b[0m\u001b[0m\n",
        "\u001b[0;31mTypeError\u001b[0m: 'tuple' object does not support item assignment"
       ]
      },
      {
       "output_type": "stream",
       "stream": "stdout",
       "text": [
        "[0, 1, 2, 3, 4] my_list before edditing\n",
        "(0, 1, 2, 'scicoder', 'is_great') my_tuple before edditing\n",
        "[0, 'a string', 2, 3, 4] my_list after edditing\n"
       ]
      }
     ],
     "prompt_number": 19
    },
    {
     "cell_type": "markdown",
     "metadata": {},
     "source": [
      "__6)__ Create a dictionary, but try using different Python objects as keys."
     ]
    },
    {
     "cell_type": "code",
     "collapsed": false,
     "input": [
      "my_dictionary={'first':1261, 'second':5024, 'third':5466 }\n",
      "print(my_dictionary)"
     ],
     "language": "python",
     "metadata": {},
     "outputs": [
      {
       "output_type": "stream",
       "stream": "stdout",
       "text": [
        "{'second': 5024, 'third': 5466, 'first': 1261}\n"
       ]
      }
     ],
     "prompt_number": 38
    },
    {
     "cell_type": "markdown",
     "metadata": {},
     "source": [
      "__7)__ Write a loop to sum all factors of 4 up to 100."
     ]
    },
    {
     "cell_type": "code",
     "collapsed": false,
     "input": [
      "numbers=[]\n",
      "import numpy as np\n",
      "for i in range(25):\n",
      "    numbers.append(4*(i+1))\n",
      "    \n",
      "print(numbers)\n",
      "a=np.sum(np.array(numbers))\n",
      "print(a)"
     ],
     "language": "python",
     "metadata": {},
     "outputs": [
      {
       "output_type": "stream",
       "stream": "stdout",
       "text": [
        "[4, 8, 12, 16, 20, 24, 28, 32, 36, 40, 44, 48, 52, 56, 60, 64, 68, 72, 76, 80, 84, 88, 92, 96, 100]\n",
        "1300\n"
       ]
      }
     ],
     "prompt_number": 32
    },
    {
     "cell_type": "markdown",
     "metadata": {},
     "source": [
      "__8)__ Parse the file `data/table.txt` into a Python dictionary of lists. Each key in the dictionary should be a column name."
     ]
    },
    {
     "cell_type": "code",
     "collapsed": false,
     "input": [
      "import csv\n",
      "import pprint\n",
      "with open(\"../data/table.txt\") as table_to_be_parsed:\n",
      "    lines=table_to_be_parsed.readlines()\n",
      "    str=lines[0]\n",
      "    print(str)\n",
      "#    col_names=[str.split(',')]\n",
      "    col_names=('ra','dec','name')\n",
      "    print(col_names)\n",
      "    reader=csv.DictReader(open('../data/table.txt'),delimiter=',',fieldnames=col_names)\n",
      "    for row in reader:\n",
      "        pprint.pprint(row)\n",
      "        \n",
      "    \n",
      "    "
     ],
     "language": "python",
     "metadata": {},
     "outputs": [
      {
       "output_type": "stream",
       "stream": "stdout",
       "text": [
        "ra,dec,name\n",
        "\n",
        "('ra', 'dec', 'name')\n",
        "<csv.DictReader instance at 0x102f96680>\n",
        "<csv.DictReader instance at 0x102f96680>\n",
        "<csv.DictReader instance at 0x102f96680>\n",
        "<csv.DictReader instance at 0x102f96680>\n",
        "<csv.DictReader instance at 0x102f96680>\n",
        "<csv.DictReader instance at 0x102f96680>\n",
        "<csv.DictReader instance at 0x102f96680>\n",
        "<csv.DictReader instance at 0x102f96680>\n",
        "<csv.DictReader instance at 0x102f96680>\n",
        "<csv.DictReader instance at 0x102f96680>\n",
        "<csv.DictReader instance at 0x102f96680>\n",
        "<csv.DictReader instance at 0x102f96680>\n",
        "<csv.DictReader instance at 0x102f96680>\n",
        "<csv.DictReader instance at 0x102f96680>\n",
        "<csv.DictReader instance at 0x102f96680>\n",
        "<csv.DictReader instance at 0x102f96680>\n",
        "<csv.DictReader instance at 0x102f96680>\n",
        "<csv.DictReader instance at 0x102f96680>\n",
        "<csv.DictReader instance at 0x102f96680>\n",
        "<csv.DictReader instance at 0x102f96680>\n",
        "<csv.DictReader instance at 0x102f96680>\n",
        "<csv.DictReader instance at 0x102f96680>\n",
        "<csv.DictReader instance at 0x102f96680>\n",
        "<csv.DictReader instance at 0x102f96680>\n",
        "<csv.DictReader instance at 0x102f96680>\n",
        "<csv.DictReader instance at 0x102f96680>\n",
        "<csv.DictReader instance at 0x102f96680>\n",
        "<csv.DictReader instance at 0x102f96680>\n",
        "<csv.DictReader instance at 0x102f96680>\n",
        "<csv.DictReader instance at 0x102f96680>\n",
        "<csv.DictReader instance at 0x102f96680>\n",
        "<csv.DictReader instance at 0x102f96680>\n",
        "<csv.DictReader instance at 0x102f96680>\n",
        "<csv.DictReader instance at 0x102f96680>\n",
        "<csv.DictReader instance at 0x102f96680>\n",
        "<csv.DictReader instance at 0x102f96680>\n",
        "<csv.DictReader instance at 0x102f96680>\n",
        "<csv.DictReader instance at 0x102f96680>\n",
        "<csv.DictReader instance at 0x102f96680>\n",
        "<csv.DictReader instance at 0x102f96680>\n",
        "<csv.DictReader instance at 0x102f96680>\n",
        "<csv.DictReader instance at 0x102f96680>\n",
        "<csv.DictReader instance at 0x102f96680>\n",
        "<csv.DictReader instance at 0x102f96680>\n",
        "<csv.DictReader instance at 0x102f96680>\n",
        "<csv.DictReader instance at 0x102f96680>\n",
        "<csv.DictReader instance at 0x102f96680>\n",
        "<csv.DictReader instance at 0x102f96680>\n",
        "<csv.DictReader instance at 0x102f96680>\n",
        "<csv.DictReader instance at 0x102f96680>\n",
        "<csv.DictReader instance at 0x102f96680>\n",
        "<csv.DictReader instance at 0x102f96680>\n",
        "<csv.DictReader instance at 0x102f96680>\n",
        "<csv.DictReader instance at 0x102f96680>\n",
        "<csv.DictReader instance at 0x102f96680>\n",
        "<csv.DictReader instance at 0x102f96680>\n",
        "<csv.DictReader instance at 0x102f96680>\n",
        "<csv.DictReader instance at 0x102f96680>\n",
        "<csv.DictReader instance at 0x102f96680>\n",
        "<csv.DictReader instance at 0x102f96680>\n",
        "<csv.DictReader instance at 0x102f96680>\n",
        "<csv.DictReader instance at 0x102f96680>\n",
        "<csv.DictReader instance at 0x102f96680>\n",
        "<csv.DictReader instance at 0x102f96680>\n",
        "<csv.DictReader instance at 0x102f96680>\n",
        "<csv.DictReader instance at 0x102f96680>\n",
        "<csv.DictReader instance at 0x102f96680>\n",
        "<csv.DictReader instance at 0x102f96680>\n",
        "<csv.DictReader instance at 0x102f96680>\n",
        "<csv.DictReader instance at 0x102f96680>\n",
        "<csv.DictReader instance at 0x102f96680>\n",
        "<csv.DictReader instance at 0x102f96680>\n",
        "<csv.DictReader instance at 0x102f96680>\n",
        "<csv.DictReader instance at 0x102f96680>\n",
        "<csv.DictReader instance at 0x102f96680>\n",
        "<csv.DictReader instance at 0x102f96680>\n",
        "<csv.DictReader instance at 0x102f96680>\n",
        "<csv.DictReader instance at 0x102f96680>\n",
        "<csv.DictReader instance at 0x102f96680>\n",
        "<csv.DictReader instance at 0x102f96680>\n",
        "<csv.DictReader instance at 0x102f96680>\n",
        "<csv.DictReader instance at 0x102f96680>\n",
        "<csv.DictReader instance at 0x102f96680>\n",
        "<csv.DictReader instance at 0x102f96680>\n",
        "<csv.DictReader instance at 0x102f96680>\n",
        "<csv.DictReader instance at 0x102f96680>\n",
        "<csv.DictReader instance at 0x102f96680>\n",
        "<csv.DictReader instance at 0x102f96680>\n"
       ]
      }
     ],
     "prompt_number": 67
    },
    {
     "cell_type": "markdown",
     "metadata": {},
     "source": [
      "__9.1)__ Count how many lines, and words there are in the Gettysburg Address (in `data/gettysburg_address.txt`)."
     ]
    },
    {
     "cell_type": "code",
     "collapsed": false,
     "input": [],
     "language": "python",
     "metadata": {},
     "outputs": []
    },
    {
     "cell_type": "markdown",
     "metadata": {},
     "source": [
      "__9.1)__ Count how many of each vowel there are in the GA, print this out."
     ]
    },
    {
     "cell_type": "code",
     "collapsed": false,
     "input": [],
     "language": "python",
     "metadata": {},
     "outputs": []
    },
    {
     "cell_type": "markdown",
     "metadata": {},
     "source": [
      "__9.2)__ Sort the words in the address alphabetically, and remove duplicate words. Re-write this to a file."
     ]
    },
    {
     "cell_type": "code",
     "collapsed": false,
     "input": [],
     "language": "python",
     "metadata": {},
     "outputs": []
    }
   ],
   "metadata": {}
  }
 ]
}