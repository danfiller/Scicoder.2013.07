{
 "metadata": {
  "name": "exercises - numpy"
 },
 "nbformat": 3,
 "nbformat_minor": 0,
 "worksheets": [
  {
   "cells": [
    {
     "cell_type": "markdown",
     "metadata": {},
     "source": [
      "__1)__ Create a one-dimensional array, print the `length` and `shape` of the array"
     ]
    },
    {
     "cell_type": "code",
     "collapsed": false,
     "input": [
      "import numpy as np\n",
      "oned_arr=np.array([1,2,3,4,5])\n",
      "oned_arr.shape, oned_arr.size\n"
     ],
     "language": "python",
     "metadata": {},
     "outputs": [
      {
       "output_type": "pyout",
       "prompt_number": 5,
       "text": [
        "((5,), 5)"
       ]
      }
     ],
     "prompt_number": 5
    },
    {
     "cell_type": "markdown",
     "metadata": {},
     "source": [
      "__2)__ Create a two-dimensional array, print the `length` and `shape` of the array"
     ]
    },
    {
     "cell_type": "code",
     "collapsed": false,
     "input": [
      "twod_arr=np.array([[1,2,3,4,5],[6,7,8,9,10]])\n",
      "twod_arr.shape, twod_arr.size"
     ],
     "language": "python",
     "metadata": {},
     "outputs": [
      {
       "output_type": "pyout",
       "prompt_number": 7,
       "text": [
        "((2, 5), 10)"
       ]
      }
     ],
     "prompt_number": 7
    },
    {
     "cell_type": "markdown",
     "metadata": {},
     "source": [
      "__3)__ Add the two arrays created above -- what happens?"
     ]
    },
    {
     "cell_type": "code",
     "collapsed": false,
     "input": [
      "z=oned_arr+twod_arr\n",
      "z"
     ],
     "language": "python",
     "metadata": {},
     "outputs": [
      {
       "output_type": "pyout",
       "prompt_number": 9,
       "text": [
        "array([[ 2,  4,  6,  8, 10],\n",
        "       [ 7,  9, 11, 13, 15]])"
       ]
      }
     ],
     "prompt_number": 9
    },
    {
     "cell_type": "markdown",
     "metadata": {},
     "source": [
      "__4)__ Create a 100 x 100 array of integers, and trim off the top/bottom rows, and left/right columns"
     ]
    },
    {
     "cell_type": "code",
     "collapsed": false,
     "input": [
      "arr=np.arange(16).reshape(4,4)\n",
      "arr\n",
      "brr=arr[1:3,1:3]\n",
      "brr\n"
     ],
     "language": "python",
     "metadata": {},
     "outputs": [
      {
       "output_type": "pyout",
       "prompt_number": 58,
       "text": [
        "array([[ 5,  6],\n",
        "       [ 9, 10]])"
       ]
      }
     ],
     "prompt_number": 58
    },
    {
     "cell_type": "markdown",
     "metadata": {},
     "source": [
      "__5)__ Write out and use an index array to select out positive values from this array\n",
      "\n",
      "    np.array([1, -1, -2, 3, -5])"
     ]
    },
    {
     "cell_type": "code",
     "collapsed": false,
     "input": [
      "yours=np.array([1, -1, -2, 3, -5])\n",
      "(mine,)=np.where(yours>0)\n",
      "yours[mine]"
     ],
     "language": "python",
     "metadata": {},
     "outputs": [
      {
       "output_type": "pyout",
       "prompt_number": 22,
       "text": [
        "array([1, 3])"
       ]
      }
     ],
     "prompt_number": 22
    },
    {
     "cell_type": "markdown",
     "metadata": {},
     "source": [
      "__6)__ Experiment with `arange`, `ones`, and `zeros` to create arrays of different shapes"
     ]
    },
    {
     "cell_type": "code",
     "collapsed": false,
     "input": [],
     "language": "python",
     "metadata": {},
     "outputs": []
    },
    {
     "cell_type": "code",
     "collapsed": false,
     "input": [],
     "language": "python",
     "metadata": {},
     "outputs": []
    },
    {
     "cell_type": "markdown",
     "metadata": {},
     "source": [
      "__7)__ Using a boolean array mask, select out the elements of the following array between 5 and 10:\n",
      "\n",
      "    np.array([0.6429498677659073, 1.150547235455569, 1.1915607017440888, 8.283179653420964, 5.1635384867953595, 8.06221365954315, 5.941607350505754, 9.426996923221827, 9.828300195624534, 8.061581259382875, 9.350471376998248, 2.5337332496612266, 3.8933693630535062, 7.854245437743151, 0.7965058455412621, 2.7207245408915623, 4.693244676240291, 1.3620057998648716, 8.880004623574631, 6.504379354779315])"
     ]
    },
    {
     "cell_type": "code",
     "collapsed": false,
     "input": [
      "your_other=np.array([0.6429498677659073, 1.150547235455569, 1.1915607017440888, 8.283179653420964, 5.1635384867953595, 8.06221365954315, 5.941607350505754, 9.426996923221827, 9.828300195624534, 8.061581259382875, 9.350471376998248, 2.5337332496612266, 3.8933693630535062, 7.854245437743151, 0.7965058455412621, 2.7207245408915623, 4.693244676240291, 1.3620057998648716, 8.880004623574631, 6.504379354779315])\n",
      "your_other[(your_other>5)&(your_other<10)]"
     ],
     "language": "python",
     "metadata": {},
     "outputs": [
      {
       "output_type": "pyout",
       "prompt_number": 29,
       "text": [
        "array([ 8.28317965,  5.16353849,  8.06221366,  5.94160735,  9.42699692,\n",
        "        9.8283002 ,  8.06158126,  9.35047138,  7.85424544,  8.88000462,\n",
        "        6.50437935])"
       ]
      }
     ],
     "prompt_number": 29
    },
    {
     "cell_type": "markdown",
     "metadata": {},
     "source": [
      "__8)__ Create the following arrays:"
     ]
    },
    {
     "cell_type": "raw",
     "metadata": {},
     "source": [
      "[[1, 1, 1, 1],\n",
      " [1, 1, 1, 1],\n",
      " [1, 1, 1, 2],\n",
      " [1, 6, 1, 1]]\n",
      "\n",
      "[[1., 0., 0., 0., 0.],\n",
      " [0., 2., 0., 0., 0.],\n",
      " [0., 0., 3., 0., 0.],\n",
      " [0., 0., 0., 4., 0.],\n",
      " [0., 0., 0., 0., 5.]]"
     ]
    },
    {
     "cell_type": "markdown",
     "metadata": {},
     "source": [
      "__9.1)__ Create a length 1000 array of `True` values called `primes`"
     ]
    },
    {
     "cell_type": "code",
     "collapsed": false,
     "input": [
      "ones=np.ones(16).reshape(4,4)\n",
      "ones[2,3]=2 \n",
      "ones[3,1]=6\n",
      "ones\n",
      "\n",
      "zeros=np.zeros(25).reshape(5,5)\n",
      "new=(np.identity(5)+zeros)*np.arange(1,6,1)\n",
      "new\n",
      "#vals=np.diag(zeros)\n",
      "#zeros\n"
     ],
     "language": "python",
     "metadata": {},
     "outputs": [
      {
       "output_type": "pyout",
       "prompt_number": 71,
       "text": [
        "array([[ 1.,  0.,  0.,  0.,  0.],\n",
        "       [ 0.,  2.,  0.,  0.,  0.],\n",
        "       [ 0.,  0.,  3.,  0.,  0.],\n",
        "       [ 0.,  0.,  0.,  4.,  0.],\n",
        "       [ 0.,  0.,  0.,  0.,  5.]])"
       ]
      }
     ],
     "prompt_number": 71
    },
    {
     "cell_type": "markdown",
     "metadata": {},
     "source": [
      "__9.2)__ The position in the array -- the value of the index at a position -- represents that number. Set all numbers that aren't prime to `False`. For example, the first few values should be\n",
      "\n",
      "    [False, False, True, etc.]"
     ]
    },
    {
     "cell_type": "code",
     "collapsed": false,
     "input": [
      "primes=['False']*1000\n",
      "primes.index\n",
      "import math\n",
      "def prime(upto=100):\n",
      "    return filter(lambda num: (num % np.arange(2,1+int(math.sqrt(num)))).all(), range(2,upto+1))\n",
      "yes=np.array(prime(1000))\n",
      "primes=np.array(primes)\n",
      "primes[yes]='True'\n",
      "primes\n",
      "#for i in primes:\n",
      "#    temp=np.where(primes.index==yes[i])\n",
      "#    print temp\n",
      "                  \n",
      " \n",
      "\n",
      "\n",
      "\n"
     ],
     "language": "python",
     "metadata": {},
     "outputs": [
      {
       "output_type": "stream",
       "stream": "stdout",
       "text": [
        "[  2   3   5   7  11  13  17  19  23  29  31  37  41  43  47  53  59  61\n",
        "  67  71  73  79  83  89  97 101 103 107 109 113 127 131 137 139 149 151\n",
        " 157 163 167 173 179 181 191 193 197 199 211 223 227 229 233 239 241 251\n",
        " 257 263 269 271 277 281 283 293 307 311 313 317 331 337 347 349 353 359\n",
        " 367 373 379 383 389 397 401 409 419 421 431 433 439 443 449 457 461 463\n",
        " 467 479 487 491 499 503 509 521 523 541 547 557 563 569 571 577 587 593\n",
        " 599 601 607 613 617 619 631 641 643 647 653 659 661 673 677 683 691 701\n",
        " 709 719 727 733 739 743 751 757 761 769 773 787 797 809 811 821 823 827\n",
        " 829 839 853 857 859 863 877 881 883 887 907 911 919 929 937 941 947 953\n",
        " 967 971 977 983 991 997]\n"
       ]
      },
      {
       "output_type": "pyout",
       "prompt_number": 122,
       "text": [
        "array(['False', 'False', 'True', 'True', 'False', 'True', 'False', 'True',\n",
        "       'False', 'False', 'False', 'True', 'False', 'True', 'False',\n",
        "       'False', 'False', 'True', 'False', 'True', 'False', 'False',\n",
        "       'False', 'True', 'False', 'False', 'False', 'False', 'False',\n",
        "       'True', 'False', 'True', 'False', 'False', 'False', 'False',\n",
        "       'False', 'True', 'False', 'False', 'False', 'True', 'False', 'True',\n",
        "       'False', 'False', 'False', 'True', 'False', 'False', 'False',\n",
        "       'False', 'False', 'True', 'False', 'False', 'False', 'False',\n",
        "       'False', 'True', 'False', 'True', 'False', 'False', 'False',\n",
        "       'False', 'False', 'True', 'False', 'False', 'False', 'True',\n",
        "       'False', 'True', 'False', 'False', 'False', 'False', 'False',\n",
        "       'True', 'False', 'False', 'False', 'True', 'False', 'False',\n",
        "       'False', 'False', 'False', 'True', 'False', 'False', 'False',\n",
        "       'False', 'False', 'False', 'False', 'True', 'False', 'False',\n",
        "       'False', 'True', 'False', 'True', 'False', 'False', 'False', 'True',\n",
        "       'False', 'True', 'False', 'False', 'False', 'True', 'False',\n",
        "       'False', 'False', 'False', 'False', 'False', 'False', 'False',\n",
        "       'False', 'False', 'False', 'False', 'False', 'True', 'False',\n",
        "       'False', 'False', 'True', 'False', 'False', 'False', 'False',\n",
        "       'False', 'True', 'False', 'True', 'False', 'False', 'False',\n",
        "       'False', 'False', 'False', 'False', 'False', 'False', 'True',\n",
        "       'False', 'True', 'False', 'False', 'False', 'False', 'False',\n",
        "       'True', 'False', 'False', 'False', 'False', 'False', 'True',\n",
        "       'False', 'False', 'False', 'True', 'False', 'False', 'False',\n",
        "       'False', 'False', 'True', 'False', 'False', 'False', 'False',\n",
        "       'False', 'True', 'False', 'True', 'False', 'False', 'False',\n",
        "       'False', 'False', 'False', 'False', 'False', 'False', 'True',\n",
        "       'False', 'True', 'False', 'False', 'False', 'True', 'False', 'True',\n",
        "       'False', 'False', 'False', 'False', 'False', 'False', 'False',\n",
        "       'False', 'False', 'False', 'False', 'True', 'False', 'False',\n",
        "       'False', 'False', 'False', 'False', 'False', 'False', 'False',\n",
        "       'False', 'False', 'True', 'False', 'False', 'False', 'True',\n",
        "       'False', 'True', 'False', 'False', 'False', 'True', 'False',\n",
        "       'False', 'False', 'False', 'False', 'True', 'False', 'True',\n",
        "       'False', 'False', 'False', 'False', 'False', 'False', 'False',\n",
        "       'False', 'False', 'True', 'False', 'False', 'False', 'False',\n",
        "       'False', 'True', 'False', 'False', 'False', 'False', 'False',\n",
        "       'True', 'False', 'False', 'False', 'False', 'False', 'True',\n",
        "       'False', 'True', 'False', 'False', 'False', 'False', 'False',\n",
        "       'True', 'False', 'False', 'False', 'True', 'False', 'True', 'False',\n",
        "       'False', 'False', 'False', 'False', 'False', 'False', 'False',\n",
        "       'False', 'True', 'False', 'False', 'False', 'False', 'False',\n",
        "       'False', 'False', 'False', 'False', 'False', 'False', 'False',\n",
        "       'False', 'True', 'False', 'False', 'False', 'True', 'False', 'True',\n",
        "       'False', 'False', 'False', 'True', 'False', 'False', 'False',\n",
        "       'False', 'False', 'False', 'False', 'False', 'False', 'False',\n",
        "       'False', 'False', 'False', 'True', 'False', 'False', 'False',\n",
        "       'False', 'False', 'True', 'False', 'False', 'False', 'False',\n",
        "       'False', 'False', 'False', 'False', 'False', 'True', 'False',\n",
        "       'True', 'False', 'False', 'False', 'True', 'False', 'False',\n",
        "       'False', 'False', 'False', 'True', 'False', 'False', 'False',\n",
        "       'False', 'False', 'False', 'False', 'True', 'False', 'False',\n",
        "       'False', 'False', 'False', 'True', 'False', 'False', 'False',\n",
        "       'False', 'False', 'True', 'False', 'False', 'False', 'True',\n",
        "       'False', 'False', 'False', 'False', 'False', 'True', 'False',\n",
        "       'False', 'False', 'False', 'False', 'False', 'False', 'True',\n",
        "       'False', 'False', 'False', 'True', 'False', 'False', 'False',\n",
        "       'False', 'False', 'False', 'False', 'True', 'False', 'False',\n",
        "       'False', 'False', 'False', 'False', 'False', 'False', 'False',\n",
        "       'True', 'False', 'True', 'False', 'False', 'False', 'False',\n",
        "       'False', 'False', 'False', 'False', 'False', 'True', 'False',\n",
        "       'True', 'False', 'False', 'False', 'False', 'False', 'True',\n",
        "       'False', 'False', 'False', 'True', 'False', 'False', 'False',\n",
        "       'False', 'False', 'True', 'False', 'False', 'False', 'False',\n",
        "       'False', 'False', 'False', 'True', 'False', 'False', 'False',\n",
        "       'True', 'False', 'True', 'False', 'False', 'False', 'True', 'False',\n",
        "       'False', 'False', 'False', 'False', 'False', 'False', 'False',\n",
        "       'False', 'False', 'False', 'True', 'False', 'False', 'False',\n",
        "       'False', 'False', 'False', 'False', 'True', 'False', 'False',\n",
        "       'False', 'True', 'False', 'False', 'False', 'False', 'False',\n",
        "       'False', 'False', 'True', 'False', 'False', 'False', 'True',\n",
        "       'False', 'False', 'False', 'False', 'False', 'True', 'False',\n",
        "       'False', 'False', 'False', 'False', 'False', 'False', 'False',\n",
        "       'False', 'False', 'False', 'True', 'False', 'True', 'False',\n",
        "       'False', 'False', 'False', 'False', 'False', 'False', 'False',\n",
        "       'False', 'False', 'False', 'False', 'False', 'False', 'False',\n",
        "       'False', 'False', 'True', 'False', 'False', 'False', 'False',\n",
        "       'False', 'True', 'False', 'False', 'False', 'False', 'False',\n",
        "       'False', 'False', 'False', 'False', 'True', 'False', 'False',\n",
        "       'False', 'False', 'False', 'True', 'False', 'False', 'False',\n",
        "       'False', 'False', 'True', 'False', 'True', 'False', 'False',\n",
        "       'False', 'False', 'False', 'True', 'False', 'False', 'False',\n",
        "       'False', 'False', 'False', 'False', 'False', 'False', 'True',\n",
        "       'False', 'False', 'False', 'False', 'False', 'True', 'False',\n",
        "       'False', 'False', 'False', 'False', 'True', 'False', 'True',\n",
        "       'False', 'False', 'False', 'False', 'False', 'True', 'False',\n",
        "       'False', 'False', 'False', 'False', 'True', 'False', 'False',\n",
        "       'False', 'True', 'False', 'True', 'False', 'False', 'False',\n",
        "       'False', 'False', 'False', 'False', 'False', 'False', 'False',\n",
        "       'False', 'True', 'False', 'False', 'False', 'False', 'False',\n",
        "       'False', 'False', 'False', 'False', 'True', 'False', 'True',\n",
        "       'False', 'False', 'False', 'True', 'False', 'False', 'False',\n",
        "       'False', 'False', 'True', 'False', 'False', 'False', 'False',\n",
        "       'False', 'True', 'False', 'True', 'False', 'False', 'False',\n",
        "       'False', 'False', 'False', 'False', 'False', 'False', 'False',\n",
        "       'False', 'True', 'False', 'False', 'False', 'True', 'False',\n",
        "       'False', 'False', 'False', 'False', 'True', 'False', 'False',\n",
        "       'False', 'False', 'False', 'False', 'False', 'True', 'False',\n",
        "       'False', 'False', 'False', 'False', 'False', 'False', 'False',\n",
        "       'False', 'True', 'False', 'False', 'False', 'False', 'False',\n",
        "       'False', 'False', 'True', 'False', 'False', 'False', 'False',\n",
        "       'False', 'False', 'False', 'False', 'False', 'True', 'False',\n",
        "       'False', 'False', 'False', 'False', 'False', 'False', 'True',\n",
        "       'False', 'False', 'False', 'False', 'False', 'True', 'False',\n",
        "       'False', 'False', 'False', 'False', 'True', 'False', 'False',\n",
        "       'False', 'True', 'False', 'False', 'False', 'False', 'False',\n",
        "       'False', 'False', 'True', 'False', 'False', 'False', 'False',\n",
        "       'False', 'True', 'False', 'False', 'False', 'True', 'False',\n",
        "       'False', 'False', 'False', 'False', 'False', 'False', 'True',\n",
        "       'False', 'False', 'False', 'True', 'False', 'False', 'False',\n",
        "       'False', 'False', 'False', 'False', 'False', 'False', 'False',\n",
        "       'False', 'False', 'False', 'True', 'False', 'False', 'False',\n",
        "       'False', 'False', 'False', 'False', 'False', 'False', 'True',\n",
        "       'False', 'False', 'False', 'False', 'False', 'False', 'False',\n",
        "       'False', 'False', 'False', 'False', 'True', 'False', 'True',\n",
        "       'False', 'False', 'False', 'False', 'False', 'False', 'False',\n",
        "       'False', 'False', 'True', 'False', 'True', 'False', 'False',\n",
        "       'False', 'True', 'False', 'True', 'False', 'False', 'False',\n",
        "       'False', 'False', 'False', 'False', 'False', 'False', 'True',\n",
        "       'False', 'False', 'False', 'False', 'False', 'False', 'False',\n",
        "       'False', 'False', 'False', 'False', 'False', 'False', 'True',\n",
        "       'False', 'False', 'False', 'True', 'False', 'True', 'False',\n",
        "       'False', 'False', 'True', 'False', 'False', 'False', 'False',\n",
        "       'False', 'False', 'False', 'False', 'False', 'False', 'False',\n",
        "       'False', 'False', 'True', 'False', 'False', 'False', 'True',\n",
        "       'False', 'True', 'False', 'False', 'False', 'True', 'False',\n",
        "       'False', 'False', 'False', 'False', 'False', 'False', 'False',\n",
        "       'False', 'False', 'False', 'False', 'False', 'False', 'False',\n",
        "       'False', 'False', 'False', 'False', 'True', 'False', 'False',\n",
        "       'False', 'True', 'False', 'False', 'False', 'False', 'False',\n",
        "       'False', 'False', 'True', 'False', 'False', 'False', 'False',\n",
        "       'False', 'False', 'False', 'False', 'False', 'True', 'False',\n",
        "       'False', 'False', 'False', 'False', 'False', 'False', 'True',\n",
        "       'False', 'False', 'False', 'True', 'False', 'False', 'False',\n",
        "       'False', 'False', 'True', 'False', 'False', 'False', 'False',\n",
        "       'False', 'True', 'False', 'False', 'False', 'False', 'False',\n",
        "       'False', 'False', 'False', 'False', 'False', 'False', 'False',\n",
        "       'False', 'True', 'False', 'False', 'False', 'True', 'False',\n",
        "       'False', 'False', 'False', 'False', 'True', 'False', 'False',\n",
        "       'False', 'False', 'False', 'True', 'False', 'False', 'False',\n",
        "       'False', 'False', 'False', 'False', 'True', 'False', 'False',\n",
        "       'False', 'False', 'False', 'True', 'False', 'False'], \n",
        "      dtype='|S5')"
       ]
      }
     ],
     "prompt_number": 122
    },
    {
     "cell_type": "markdown",
     "metadata": {},
     "source": [
      "__9.3)__ Print out the prime numbers (_hint: use the np.nonzero() function_)"
     ]
    },
    {
     "cell_type": "code",
     "collapsed": false,
     "input": [
      "a=np.nonzero(primes=='True')\n",
      "print a\n",
      "\n",
      "    \n"
     ],
     "language": "python",
     "metadata": {},
     "outputs": [
      {
       "output_type": "stream",
       "stream": "stdout",
       "text": [
        "(array([  2,   3,   5,   7,  11,  13,  17,  19,  23,  29,  31,  37,  41,\n",
        "        43,  47,  53,  59,  61,  67,  71,  73,  79,  83,  89,  97, 101,\n",
        "       103, 107, 109, 113, 127, 131, 137, 139, 149, 151, 157, 163, 167,\n",
        "       173, 179, 181, 191, 193, 197, 199, 211, 223, 227, 229, 233, 239,\n",
        "       241, 251, 257, 263, 269, 271, 277, 281, 283, 293, 307, 311, 313,\n",
        "       317, 331, 337, 347, 349, 353, 359, 367, 373, 379, 383, 389, 397,\n",
        "       401, 409, 419, 421, 431, 433, 439, 443, 449, 457, 461, 463, 467,\n",
        "       479, 487, 491, 499, 503, 509, 521, 523, 541, 547, 557, 563, 569,\n",
        "       571, 577, 587, 593, 599, 601, 607, 613, 617, 619, 631, 641, 643,\n",
        "       647, 653, 659, 661, 673, 677, 683, 691, 701, 709, 719, 727, 733,\n",
        "       739, 743, 751, 757, 761, 769, 773, 787, 797, 809, 811, 821, 823,\n",
        "       827, 829, 839, 853, 857, 859, 863, 877, 881, 883, 887, 907, 911,\n",
        "       919, 929, 937, 941, 947, 953, 967, 971, 977, 983, 991, 997]),)\n"
       ]
      }
     ],
     "prompt_number": 130
    },
    {
     "cell_type": "markdown",
     "metadata": {},
     "source": [
      "__10)__ Write a function to evaluate a 2D Gaussian. The function should accept two arrays -- an array of x values and an array of y values -- a length-2 vector of means, and a covariance matrix. It should return an array with the same shape as the input x or y array. Recall that:\n",
      "\n",
      "$G({\\bf x} \\mid {\\bf \\mu},\\Sigma) = A \\exp\\big[ -\\frac{1}{2}\\left\\langle ({\\bf x - \\mu})^T, \\Sigma^{-1}({\\bf x - \\mu}) \\right\\rangle \\big]$\n",
      "\n",
      "Set $A=1$.\n",
      "\n",
      "This code should work with your function:\n",
      "\n",
      "    x = np.arange(0.,10.,0.1)\n",
      "    y = np.arange(0.,10.,0.1)\n",
      "    x,y = np.meshgrid(x,y)\n",
      "    mean_xy = np.array([5.,4.])\n",
      "    cov = np.array([[1.,1.],\n",
      "                    [1.,2.]])**2.\n",
      "    \n",
      "    f = gaussian2D(x.ravel(), y.ravel(), mean_xy, cov)\n",
      "    f.reshape(100,100)\n",
      "    imshow(f.reshape(100,100))\n",
      "   \n",
      "And should look like the image in ../misc/gaussian.png"
     ]
    },
    {
     "cell_type": "code",
     "collapsed": false,
     "input": [
      "def func(gaussian2D, x, y, mean_xy, cov):\n",
      "    return 1*math.exp((-.5)"
     ],
     "language": "python",
     "metadata": {},
     "outputs": []
    },
    {
     "cell_type": "code",
     "collapsed": false,
     "input": [],
     "language": "python",
     "metadata": {},
     "outputs": []
    },
    {
     "cell_type": "code",
     "collapsed": false,
     "input": [],
     "language": "python",
     "metadata": {},
     "outputs": []
    }
   ],
   "metadata": {}
  }
 ]
}