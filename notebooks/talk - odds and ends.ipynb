{
 "metadata": {
  "name": "talk - odds and ends"
 },
 "nbformat": 3,
 "nbformat_minor": 0,
 "worksheets": [
  {
   "cells": [
    {
     "cell_type": "heading",
     "level": 2,
     "metadata": {},
     "source": [
      "requests"
     ]
    },
    {
     "cell_type": "markdown",
     "metadata": {},
     "source": [
      "Similar to `urllib2`, package for doing HTTP requests, but more intuitive."
     ]
    },
    {
     "cell_type": "code",
     "collapsed": false,
     "input": [
      "import urllib2\n",
      "import json"
     ],
     "language": "python",
     "metadata": {},
     "outputs": []
    },
    {
     "cell_type": "markdown",
     "metadata": {},
     "source": [
      "With `urllib2`, have to format a string with some parameters, remember the ? and & in the URL, etc:"
     ]
    },
    {
     "cell_type": "code",
     "collapsed": false,
     "input": [
      "url = \"http://api.sdss3.org/spectrum?id=boss.3588.55184.511.v5_4_45&format=json\"\n",
      "response = urllib2.urlopen(url)\n",
      "data = response.read()\n",
      "data_dict = json.loads(data)"
     ],
     "language": "python",
     "metadata": {},
     "outputs": []
    },
    {
     "cell_type": "code",
     "collapsed": false,
     "input": [
      "data_dict.keys()"
     ],
     "language": "python",
     "metadata": {},
     "outputs": []
    },
    {
     "cell_type": "code",
     "collapsed": false,
     "input": [
      "import requests # pip install requests"
     ],
     "language": "python",
     "metadata": {},
     "outputs": []
    },
    {
     "cell_type": "code",
     "collapsed": false,
     "input": [
      "base_url = \"http://api.sdss3.org/spectrum\"\n",
      "params = dict(id=\"boss.3588.55184.511.v5_4_45\",\n",
      "              format=\"json\")\n",
      "resp = requests.get(base_url, params=params)\n",
      "data_dict = resp.json()\n",
      "data_dict.keys()"
     ],
     "language": "python",
     "metadata": {},
     "outputs": []
    },
    {
     "cell_type": "heading",
     "level": 2,
     "metadata": {},
     "source": [
      "Machine Learning"
     ]
    },
    {
     "cell_type": "markdown",
     "metadata": {},
     "source": [
      "Scikit-learn documentation here: http://scikit-learn.org\n",
      "\n",
      "AstroML (astronomy machine learning): http://astroml.org\n",
      "\n",
      "Some great books:\n",
      "\n",
      "* [Advances in Machine Learning and Data Mining for Astronomy](http://www.amazon.com/Advances-Learning-Astronomy-Knowledge-Discovery/dp/143984173X)\n",
      "* [Information Theory, Inference, and Learning Algorithms](http://www.inference.phy.cam.ac.uk/mackay/itila/)\n",
      "* [Bayesian Reasoning and Machine Learning](http://web4.cs.ucl.ac.uk/staff/D.Barber/pmwiki/pmwiki.php?n=Brml.Online)"
     ]
    },
    {
     "cell_type": "markdown",
     "metadata": {},
     "source": [
      "`scikit-learn` is the de-facto machine learning package for Python. Makes it very easy to use even more complicated machine learning algorithms like random forests, etc.\n",
      "\n",
      "(can install with `conda install scikit-learn` or `pip install scikit-learn`"
     ]
    },
    {
     "cell_type": "code",
     "collapsed": false,
     "input": [
      "# it's called scikit-learn, import it as sklearn\n",
      "from sklearn.mixture import GMM\n",
      "from sklearn import svm\n",
      "import astropy.units as u"
     ],
     "language": "python",
     "metadata": {},
     "outputs": []
    },
    {
     "cell_type": "code",
     "collapsed": false,
     "input": [
      "def generate_data(N_clusters=5, N_per_cluster=100, sizes=None):\n",
      "    \"\"\" Generate fake cluster data \"\"\"\n",
      "    \n",
      "    X = np.zeros((N_per_cluster*N_clusters, 2))\n",
      "    y = np.zeros((N_per_cluster*N_clusters,))\n",
      "    \n",
      "    for ii in range(N_clusters):\n",
      "        mu = np.random.uniform(-5., 5., size=2)\n",
      "        cov = np.random.uniform(-3., 3, size=(2,2))\n",
      "        cov = 0.5*(cov + cov.T)\n",
      "        \n",
      "        samples = np.random.multivariate_normal(mu, cov=cov, size=N_per_cluster)\n",
      "        X[ii*N_per_cluster:ii*N_per_cluster + N_per_cluster] = samples\n",
      "        y[ii*N_per_cluster:ii*N_per_cluster + N_per_cluster] = ii\n",
      "        \n",
      "    return X, y"
     ],
     "language": "python",
     "metadata": {},
     "outputs": []
    },
    {
     "cell_type": "code",
     "collapsed": false,
     "input": [
      "def make_ellipses(gmm, ax=None):\n",
      "    if ax is None:\n",
      "        ax = gca()\n",
      "    \n",
      "    colors = ['#1A1A1A', '#2166AC', '#006837', '#B2182B', \n",
      "              '#762A83', '#E08214', '#80CDC1', '#C51B7D', \n",
      "              '#FEE08B']\n",
      "    \n",
      "    N_fit_clusters = len(gmm._get_covars())\n",
      "    for ii in range(N_fit_clusters):\n",
      "        v, w = np.linalg.eigh(gmm._get_covars()[ii])\n",
      "        w = w[0] / np.linalg.norm(w[0])\n",
      "        \n",
      "        angle = np.arctan2(w[1], w[0])*u.radian\n",
      "        \n",
      "        v *= 3\n",
      "        ell = mpl.patches.Ellipse(gmm.means_[ii], v[0], v[1],\n",
      "                                  180 + angle.degree, \n",
      "                                  color=colors[ii])\n",
      "        ell.set_clip_box(ax.bbox)\n",
      "        ell.set_alpha(0.5)\n",
      "        ax.add_artist(ell)"
     ],
     "language": "python",
     "metadata": {},
     "outputs": []
    },
    {
     "cell_type": "heading",
     "level": 3,
     "metadata": {},
     "source": [
      "Example: Support Vector Machines"
     ]
    },
    {
     "cell_type": "code",
     "collapsed": false,
     "input": [
      "X,y = generate_data(2)\n",
      "scatter(X[:,0], X[:,1], c=y)"
     ],
     "language": "python",
     "metadata": {},
     "outputs": []
    },
    {
     "cell_type": "code",
     "collapsed": false,
     "input": [
      "clf = svm.SVC(kernel='linear')\n",
      "clf.fit(X, y)\n",
      "#then do: clf.predict()"
     ],
     "language": "python",
     "metadata": {},
     "outputs": []
    },
    {
     "cell_type": "code",
     "collapsed": false,
     "input": [
      "# decision hyperplane\n",
      "w = clf.coef_[0]\n",
      "a = -w[0] / w[1]\n",
      "xx = np.linspace(-5, 5)\n",
      "yy = a * xx - (clf.intercept_[0]) / w[1]\n",
      "\n",
      "# margins\n",
      "b = clf.support_vectors_[0]\n",
      "yy_down = a * xx + (b[1] - a * b[0])\n",
      "b = clf.support_vectors_[1]\n",
      "yy_up = a * xx + (b[1] - a * b[0])\n",
      "\n",
      "scatter(X[:,0], X[:,1], c=y)\n",
      "plot(xx, yy, 'k-')"
     ],
     "language": "python",
     "metadata": {},
     "outputs": []
    },
    {
     "cell_type": "heading",
     "level": 3,
     "metadata": {},
     "source": [
      "Example: Gaussian Mixture Models (GMM)"
     ]
    },
    {
     "cell_type": "markdown",
     "metadata": {},
     "source": [
      "Here's an example using an unsupervised Gaussian Mixture Model:"
     ]
    },
    {
     "cell_type": "code",
     "collapsed": false,
     "input": [
      "X,y = generate_data(5)\n",
      "scatter(X[:,0], X[:,1], c=y)"
     ],
     "language": "python",
     "metadata": {},
     "outputs": []
    },
    {
     "cell_type": "code",
     "collapsed": false,
     "input": [
      "clf = GMM(n_components=5, covariance_type='full', n_iter=10)\n",
      "clf.fit(X)"
     ],
     "language": "python",
     "metadata": {},
     "outputs": []
    },
    {
     "cell_type": "markdown",
     "metadata": {},
     "source": [
      "Once we use the `fit()` method on the data, we can then use `predict()` on new data to get predicted class labels for the new data. "
     ]
    },
    {
     "cell_type": "code",
     "collapsed": false,
     "input": [
      "fig,ax = subplots(1,1,figsize=(4,4))\n",
      "make_ellipses(clf, ax)\n",
      "\n",
      "ax.plot(X[:,0], X[:,1], marker='.', linestyle='none')\n",
      "\n",
      "xlim(X[:,0].min()-2, X[:,0].max()+2)\n",
      "ylim(X[:,1].min()-2, X[:,1].max()+2)"
     ],
     "language": "python",
     "metadata": {},
     "outputs": []
    },
    {
     "cell_type": "markdown",
     "metadata": {},
     "source": [
      "There are also a ton of supervised learning algorithms implemented (SVM, Naive Bayes, Decision Trees, etc.)"
     ]
    },
    {
     "cell_type": "heading",
     "level": 2,
     "metadata": {},
     "source": [
      "MCMC (Markov Chain Monte Carlo)"
     ]
    },
    {
     "cell_type": "markdown",
     "metadata": {},
     "source": [
      "There are a few MCMC implementations in Python. __PyMC__ contains many of the basic algorithms, e.g. Metropolis-Hastings / Gibbs sampling. __emcee__ is a great implementation of a particular affine-invariant, ensemble sampling algorithm. Here's an example with __emcee__:"
     ]
    },
    {
     "cell_type": "markdown",
     "metadata": {},
     "source": [
      "__emcee__ documentation: http://dan.iel.fm/emcee/\n",
      "\n",
      "Good books for Bayesian Data Analysis:\n",
      "\n",
      "* A good place to start: [Data Analysis: a Bayesian tutorial](http://www.amazon.com/books/dp/0198568320)\n",
      "* The bible: [Bayesian Data Analysis](http://www.amazon.com/Bayesian-Analysis-Edition-Chapman-Statistical/dp/1439840954)\n",
      "* [Information Theory, Inference, and Learning Algorithms](http://www.inference.phy.cam.ac.uk/mackay/itila/)"
     ]
    },
    {
     "cell_type": "code",
     "collapsed": false,
     "input": [
      "import emcee # pip install emcee\n",
      "# also at: https://github.com/dfm/emcee"
     ],
     "language": "python",
     "metadata": {},
     "outputs": []
    },
    {
     "cell_type": "code",
     "collapsed": false,
     "input": [
      "def linear_model(p, x):\n",
      "    m,b = p\n",
      "    return m*x + b\n",
      "\n",
      "def generate_data(p, x, sigma_y):\n",
      "    y = linear_model(p, x)\n",
      "    y += np.random.normal(0., sigma_y, size=len(y))\n",
      "    return y"
     ],
     "language": "python",
     "metadata": {},
     "outputs": []
    },
    {
     "cell_type": "code",
     "collapsed": false,
     "input": [
      "true_m, true_b = 5., 2.\n",
      "\n",
      "x = np.linspace(0., 10., 100)\n",
      "sigma_y = np.random.uniform(1., 5., size=len(x))\n",
      "y = generate_data((true_m, true_b), x, sigma_y)\n",
      "\n",
      "errorbar(x, y, yerr=sigma_y)"
     ],
     "language": "python",
     "metadata": {},
     "outputs": []
    },
    {
     "cell_type": "code",
     "collapsed": false,
     "input": [
      "def ln_likelihood(p, x, y, sigma_y):\n",
      "    chi = (linear_model(p,x) - y) / sigma_y\n",
      "    return -0.5*np.sum(chi**2)\n",
      "    \n",
      "def ln_prior(p, x):\n",
      "    return 0.\n",
      "\n",
      "def ln_posterior(p, x, y, sigma_y):\n",
      "    return ln_prior(p, x) + ln_likelihood(p, x, y, sigma_y)"
     ],
     "language": "python",
     "metadata": {},
     "outputs": []
    },
    {
     "cell_type": "code",
     "collapsed": false,
     "input": [
      "nwalkers = 10\n",
      "ndim = 2\n",
      "sampler = emcee.EnsembleSampler(nwalkers=nwalkers, \n",
      "                                dim=ndim,\n",
      "                                lnpostfn=ln_posterior, \n",
      "                                args=(x, y, sigma_y))\n",
      "\n",
      "p0 = np.random.uniform(0., 10, size=(nwalkers,ndim))\n",
      "pos,prob,state = sampler.run_mcmc(p0, 100)"
     ],
     "language": "python",
     "metadata": {},
     "outputs": []
    },
    {
     "cell_type": "code",
     "collapsed": false,
     "input": [
      "fig = figure(figsize=(10,4))\n",
      "for chain in sampler.chain:\n",
      "    subplot(121)\n",
      "    plot(chain[:,0], color='k', alpha=0.75)\n",
      "    \n",
      "    subplot(122)\n",
      "    plot(chain[:,1], color='k', alpha=0.75)"
     ],
     "language": "python",
     "metadata": {},
     "outputs": []
    },
    {
     "cell_type": "code",
     "collapsed": false,
     "input": [
      "sampler.reset()\n",
      "pos,prob,state = sampler.run_mcmc(pos, 1000)"
     ],
     "language": "python",
     "metadata": {},
     "outputs": []
    },
    {
     "cell_type": "code",
     "collapsed": false,
     "input": [
      "fig = figure(figsize=(10,4))\n",
      "\n",
      "subplot(1,2,1)\n",
      "x = hist(sampler.flatchain[:,0], histtype='step')\n",
      "axvline(true_m, color='r')\n",
      "\n",
      "subplot(1,2,2)\n",
      "x = hist(sampler.flatchain[:,1], histtype='step')\n",
      "axvline(true_b, color='r')"
     ],
     "language": "python",
     "metadata": {},
     "outputs": []
    },
    {
     "cell_type": "code",
     "collapsed": false,
     "input": [
      "import triangle # pip install triangle\n",
      "# also at: https://github.com/dfm/triangle.py"
     ],
     "language": "python",
     "metadata": {},
     "outputs": []
    },
    {
     "cell_type": "code",
     "collapsed": false,
     "input": [
      "fig = triangle.corner(sampler.flatchain, \n",
      "                      labels=['m', 'b'], \n",
      "                      truths=[true_m, true_b])"
     ],
     "language": "python",
     "metadata": {},
     "outputs": []
    },
    {
     "cell_type": "heading",
     "level": 2,
     "metadata": {},
     "source": [
      "Python decorators"
     ]
    },
    {
     "cell_type": "markdown",
     "metadata": {},
     "source": [
      "[Decorators in 12 easy steps](http://simeonfranklin.com/blog/2012/jul/1/python-decorators-in-12-steps/)"
     ]
    },
    {
     "cell_type": "markdown",
     "metadata": {},
     "source": [
      "    \n",
      "    class A(object):\n",
      "        @decorator_name\n",
      "        def method_name(self):\n",
      "           pass"
     ]
    },
    {
     "cell_type": "heading",
     "level": 2,
     "metadata": {},
     "source": [
      "Overloading Operators"
     ]
    },
    {
     "cell_type": "markdown",
     "metadata": {},
     "source": [
      "* Start here: http://www.rafekettler.com/magicmethods.html\n",
      "* http://www.gidnetwork.com/b-137.html\n",
      "* http://en.wikibooks.org/wiki/Python_Programming/Classes#Operator_Overloading"
     ]
    },
    {
     "cell_type": "code",
     "collapsed": false,
     "input": [],
     "language": "python",
     "metadata": {},
     "outputs": []
    }
   ],
   "metadata": {}
  }
 ]
}