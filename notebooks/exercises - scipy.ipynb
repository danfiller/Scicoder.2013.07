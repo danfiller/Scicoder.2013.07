{
 "metadata": {
  "name": "exercises - scipy"
 },
 "nbformat": 3,
 "nbformat_minor": 0,
 "worksheets": [
  {
   "cells": [
    {
     "cell_type": "markdown",
     "metadata": {},
     "source": [
      "__1.1)__ Define a function to evaluate $f(x) = e^{ax} + b$"
     ]
    },
    {
     "cell_type": "code",
     "collapsed": false,
     "input": [
      "import scipy \n",
      "import numpy as np\n",
      "def evalf(a,x,b):\n",
      "    return np.exp(a*x)+b\n",
      "\n"
     ],
     "language": "python",
     "metadata": {},
     "outputs": [],
     "prompt_number": 3
    },
    {
     "cell_type": "markdown",
     "metadata": {},
     "source": [
      "__1.1.1)__ Plot this function using matplotlib and 3 different choices for the parameters."
     ]
    },
    {
     "cell_type": "code",
     "collapsed": false,
     "input": [
      "import matplotlib.pyplot as plt\n",
      "a=3.\n",
      "b=np.arange(100)\n",
      "c=4.\n",
      "y=evalf(a,b,c)\n",
      "plt.plot(b,y)\n",
      "a=15.\n",
      "c=5.\n",
      "e=86.\n",
      "y=evalf(a,b,c)\n",
      "plt.plot(b,y)\n",
      "a=25.\n",
      "b=55.\n",
      "y=evalf(a,b,c)\n",
      "plt.plot(b,y)\n",
      "\n",
      "plt.show()\n"
     ],
     "language": "python",
     "metadata": {},
     "outputs": [],
     "prompt_number": 8
    },
    {
     "cell_type": "markdown",
     "metadata": {},
     "source": [
      "__1.2)__ Generate noisy data with the model, setting $a=2.$ and $b=4.$ Use the `plot(x,y)` function to make a simple plot of the data.\n",
      "\n",
      "_hint: use np.random.normal(0., sigma)_"
     ]
    },
    {
     "cell_type": "code",
     "collapsed": false,
     "input": [
      "def evalf(x,a,b):\n",
      "    return np.exp(a*x)+b\n",
      "\n",
      "a=2.\n",
      "b=4.\n",
      "sigma=1.\n",
      "x=x+np.random.normal(0.,sigma)\n",
      "y=evalf(x,a,b)\n",
      "from scipy import optimize\n",
      "fit_p, ier = optimize.leastsq(evalf, x0=[1.,0.], args=(a, b))"
     ],
     "language": "python",
     "metadata": {},
     "outputs": [],
     "prompt_number": 26
    },
    {
     "cell_type": "markdown",
     "metadata": {},
     "source": [
      "__1.3)__ Use `scipy.optimize.leastsq` to fit the model to the noisy data and estimate a and b from the noisy data."
     ]
    },
    {
     "cell_type": "markdown",
     "metadata": {},
     "source": [
      "__2.1)__ Define the function $f(x) = e^{-2x+5} + 3x$"
     ]
    },
    {
     "cell_type": "code",
     "collapsed": false,
     "input": [
      "def dfunc(x):\n",
      "    return np.exp(-2*x+5)+3*x\n",
      "    \n"
     ],
     "language": "python",
     "metadata": {},
     "outputs": [],
     "prompt_number": 35
    },
    {
     "cell_type": "markdown",
     "metadata": {},
     "source": [
      "__2.1.1)__ Plot this function using matplotlib and fill the area under the curve."
     ]
    },
    {
     "cell_type": "code",
     "collapsed": false,
     "input": [
      "x=np.arange(100)\n",
      "y=dfunc(x)\n",
      "plt.fill_between(x,y)\n",
      "plt.show()\n",
      "\n"
     ],
     "language": "python",
     "metadata": {},
     "outputs": [],
     "prompt_number": 38
    },
    {
     "cell_type": "markdown",
     "metadata": {},
     "source": [
      "__2.2)__ Calculate the integral $\\int_2^{10} f(x) dx$ by hand"
     ]
    },
    {
     "cell_type": "markdown",
     "metadata": {},
     "source": [
      "__2.3)__ Use `scipy.integrate.quad` to evaluate the integral."
     ]
    },
    {
     "cell_type": "code",
     "collapsed": false,
     "input": [
      "from scipy import integrate\n",
      "a = integrate.quad(dfunc,2,10)\n",
      "a\n"
     ],
     "language": "python",
     "metadata": {},
     "outputs": [
      {
       "output_type": "pyout",
       "prompt_number": 41,
       "text": [
        "(145.35914076127835, 4.353818389082804e-10)"
       ]
      }
     ],
     "prompt_number": 41
    },
    {
     "cell_type": "markdown",
     "metadata": {},
     "source": [
      "__3.1)__ You're given two spectra of the same star, from the same spectrograph, but different nights. Between the nights, the diffraction grating shifted slightly so that the wavelength grids of the two spectra don't match. \n",
      "\n",
      "Assume these are your spectra:\n",
      "\n",
      "    wavelength1 = np.array([3000., 3050., 3100., 3150., 3200., 3250., 3300., 3350., 3400., 3450.])\n",
      "    flux1 = np.array([0.000, -0.001, -0.065, -1.048, -4.203, -4.203, -1.048, -0.065, -0.001, 0.000])\n",
      "    \n",
      "    wavelength2 = np.array([3050., 3102.5, 3155., 3207.5, 3260., 3312.5, 3365., 3417.5, 3470., 3522.5])\n",
      "    flux2 = np.array([-0.001, -0.077, -1.282, -4.592, -3.558, -0.596, -0.022, -0.000, -0.000, -0.000])\n",
      "   \n",
      "First, plot the two spectra on the same plot using the same `plot(x,y)` function (we'll return to matplotlib soon, don't worry about making it look nice...)"
     ]
    },
    {
     "cell_type": "code",
     "collapsed": false,
     "input": [
      "wavelength1 = np.array([3000., 3050., 3100., 3150., 3200., 3250., 3300., 3350., 3400., 3450.])\n",
      "flux1 = np.array([0.000, -0.001, -0.065, -1.048, -4.203, -4.203, -1.048, -0.065, -0.001, 0.000])\n",
      "\n",
      "wavelength2 = np.array([3050., 3102.5, 3155., 3207.5, 3260., 3312.5, 3365., 3417.5, 3470., 3522.5])\n",
      "flux2 = np.array([-0.001, -0.077, -1.282, -4.592, -3.558, -0.596, -0.022, -0.000, -0.000, -0.000])\n",
      "plt.plot(wavelength1,flux1, linewidth=4,color='r')\n",
      "plt.plot(wavelength2,flux2, linewidth=4,color='b')\n",
      "plt.xlabel(r\"Wavelenth $\\AA$\") \n",
      "plt.ylabel(\"Intensity\")\n",
      "plt.show()\n",
      "\n",
      "\n"
     ],
     "language": "python",
     "metadata": {},
     "outputs": [],
     "prompt_number": 48
    },
    {
     "cell_type": "code",
     "collapsed": false,
     "input": [],
     "language": "python",
     "metadata": {},
     "outputs": []
    },
    {
     "cell_type": "markdown",
     "metadata": {},
     "source": [
      "__3.2)__ Use `scipy.interpolate.interp1d` to interpolate one spectrum on to the wavelength grid of the other."
     ]
    },
    {
     "cell_type": "code",
     "collapsed": false,
     "input": [
      "from scipy import interpolate\n",
      "int_funct=interpolate.interp1d(wavelength2,flux1,bounds_error=False,fill_value=1.)\n",
      "int_wave1=int_funct(wavelength1)"
     ],
     "language": "python",
     "metadata": {},
     "outputs": [],
     "prompt_number": 57
    },
    {
     "cell_type": "code",
     "collapsed": false,
     "input": [],
     "language": "python",
     "metadata": {},
     "outputs": []
    },
    {
     "cell_type": "code",
     "collapsed": false,
     "input": [],
     "language": "python",
     "metadata": {},
     "outputs": []
    },
    {
     "cell_type": "markdown",
     "metadata": {},
     "source": [
      "__3.3)__ Make a 2 panel figure, one above the other. Make another figure showing the two spectra plotted on the same plot, interpolated onto the same wavelength grid."
     ]
    },
    {
     "cell_type": "code",
     "collapsed": false,
     "input": [],
     "language": "python",
     "metadata": {},
     "outputs": []
    }
   ],
   "metadata": {}
  }
 ]
}