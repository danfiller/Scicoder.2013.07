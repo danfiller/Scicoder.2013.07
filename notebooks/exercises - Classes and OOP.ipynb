{
 "metadata": {
  "name": "exercises - Classes and OOP"
 },
 "nbformat": 3,
 "nbformat_minor": 0,
 "worksheets": [
  {
   "cells": [
    {
     "cell_type": "markdown",
     "metadata": {},
     "source": [
      "__1.1)__ Create a class to represent a 2D point in space. The initializer should accept 2 inputs -- an `x` and a `y` coordinate -- and store those values as attributes of the object."
     ]
    },
    {
     "cell_type": "code",
     "collapsed": false,
     "input": [
      "class Point(object):\n",
      "    \n",
      "    def __init__(self, x, y):\n",
      "        self.x = float(x)\n",
      "        self.y = float(y)\n",
      "        def distance_to(self,p2):\n",
      "            return (math.sqrt((self.x-p2.x)**2+(self.y-p2.y)**2))"
     ],
     "language": "python",
     "metadata": {},
     "outputs": [],
     "prompt_number": 76
    },
    {
     "cell_type": "markdown",
     "metadata": {},
     "source": [
      "__1.2)__ Add a method of the class called `distance_to()` that accepts another point object, and returns the Euclidean distance between the two points. Add a check to this method to make sure `point2` is a `Point2D` object."
     ]
    },
    {
     "cell_type": "code",
     "collapsed": false,
     "input": [
      "p1=Point(10.0, 4.0)\n",
      "p2=Point(11.0, 5.0)\n",
      "p1.x, p2.x,p1.y,p2.y\n"
     ],
     "language": "python",
     "metadata": {},
     "outputs": [
      {
       "ename": "AttributeError",
       "evalue": "type object 'Point' has no attribute 'x'",
       "output_type": "pyerr",
       "traceback": [
        "\u001b[0;31m---------------------------------------------------------------------------\u001b[0m\n\u001b[0;31mAttributeError\u001b[0m                            Traceback (most recent call last)",
        "\u001b[0;32m<ipython-input-78-b319305ccd28>\u001b[0m in \u001b[0;36m<module>\u001b[0;34m()\u001b[0m\n\u001b[1;32m      2\u001b[0m \u001b[0mp2\u001b[0m\u001b[0;34m=\u001b[0m\u001b[0mPoint\u001b[0m\u001b[0;34m(\u001b[0m\u001b[0;36m11.0\u001b[0m\u001b[0;34m,\u001b[0m \u001b[0;36m5.0\u001b[0m\u001b[0;34m)\u001b[0m\u001b[0;34m\u001b[0m\u001b[0m\n\u001b[1;32m      3\u001b[0m \u001b[0mp1\u001b[0m\u001b[0;34m.\u001b[0m\u001b[0mx\u001b[0m\u001b[0;34m,\u001b[0m \u001b[0mp2\u001b[0m\u001b[0;34m.\u001b[0m\u001b[0mx\u001b[0m\u001b[0;34m,\u001b[0m\u001b[0mp1\u001b[0m\u001b[0;34m.\u001b[0m\u001b[0my\u001b[0m\u001b[0;34m,\u001b[0m\u001b[0mp2\u001b[0m\u001b[0;34m.\u001b[0m\u001b[0my\u001b[0m\u001b[0;34m\u001b[0m\u001b[0m\n\u001b[0;32m----> 4\u001b[0;31m \u001b[0mPoint\u001b[0m\u001b[0;34m.\u001b[0m\u001b[0mx\u001b[0m\u001b[0;34m\u001b[0m\u001b[0m\n\u001b[0m",
        "\u001b[0;31mAttributeError\u001b[0m: type object 'Point' has no attribute 'x'"
       ]
      }
     ],
     "prompt_number": 78
    },
    {
     "cell_type": "code",
     "collapsed": false,
     "input": [],
     "language": "python",
     "metadata": {},
     "outputs": [],
     "prompt_number": 75
    },
    {
     "cell_type": "markdown",
     "metadata": {},
     "source": [
      "__1.3)__ Generalize the class so it can handle an arbitrary number of dimensions. _hint: you can use `*args` to accept a variable number of arguments_"
     ]
    },
    {
     "cell_type": "code",
     "collapsed": false,
     "input": [
      "class Pointnd(object):\n",
      "    def __init__(self,*args):\n",
      "        self.coordinates =(float[x] for x in args)\n",
      "        \n",
      "    def distance_to(self):\n",
      "        return((x1-x2)**2 for x1,x2 in zip(self.coordinates,p2)\n"
     ],
     "language": "python",
     "metadata": {},
     "outputs": [],
     "prompt_number": 30
    },
    {
     "cell_type": "code",
     "collapsed": false,
     "input": [],
     "language": "python",
     "metadata": {},
     "outputs": []
    },
    {
     "cell_type": "code",
     "collapsed": false,
     "input": [],
     "language": "python",
     "metadata": {},
     "outputs": []
    },
    {
     "cell_type": "markdown",
     "metadata": {},
     "source": [
      "__2)__ Write a `Person` class and an `AddressBook` class. You should be able to add and remove people from the address book by passing in `Person` objects. If you search for a phone number, or persons name, it should return their address."
     ]
    },
    {
     "cell_type": "code",
     "collapsed": false,
     "input": [],
     "language": "python",
     "metadata": {},
     "outputs": []
    },
    {
     "cell_type": "markdown",
     "metadata": {},
     "source": [
      "__3)__ Write a class to represent a vending machine. Keep track of the prices of each item, and how much money has been put in to the machine. The following code should work when you're done:\n",
      "\n",
      "    vm = VendingMachine()\n",
      "    vm.restock(\"water\", quantity=5, price=1.50)\n",
      "    vm.restock(\"iced tea\", quantity=10, price=2.50)\n",
      "    vm.restock(\"soda\", quantity=12, price=2.00)\n",
      "    \n",
      "    vm.vend(\"water\", 1.50)\n",
      "    print(vm.stock(\"water\")) # how many waters are left\n",
      "    \n",
      "    vm.vend(\"water\", 1.25) # should fail, and return the money to the user\n",
      "    vm.vend(\"water\", 1.75) # should work, and return 0.25 to the user\n",
      "    \n",
      "If the machine is out of a product, it should display a friendly message and fail to vend."
     ]
    },
    {
     "cell_type": "code",
     "collapsed": false,
     "input": [],
     "language": "python",
     "metadata": {},
     "outputs": []
    },
    {
     "cell_type": "code",
     "collapsed": false,
     "input": [],
     "language": "python",
     "metadata": {},
     "outputs": []
    }
   ],
   "metadata": {}
  }
 ]
}